{
 "cells": [
  {
   "cell_type": "markdown",
   "metadata": {},
   "source": [
    "# Logistic Regression with a Neural Network"
   ]
  },
  {
   "cell_type": "code",
   "execution_count": 1,
   "metadata": {},
   "outputs": [],
   "source": [
    "#Import required libraries for Systemml. No spark libraries are imported as this \n",
    "#notebook is instanciated using pyspark\n",
    "import systemml as sml\n",
    "from systemml import MLContext, dml\n",
    "import numpy as np\n",
    "import matplotlib.pyplot as plt"
   ]
  },
  {
   "cell_type": "code",
   "execution_count": 2,
   "metadata": {},
   "outputs": [],
   "source": [
    "#Create Systemml context\n",
    "ml = MLContext(spark)"
   ]
  },
  {
   "cell_type": "markdown",
   "metadata": {},
   "source": [
    "## Overview of the Problem set ##\n",
    "\n",
    "**Problem Statement**: You are given a dataset  containing:\n",
    "    - a training set of 209 images labeled as cat (y=1) or non-cat (y=0)\n",
    "    - a test set of 50 images labeled as cat or non-cat\n",
    "    - each image is of shape (64,64, 3) where 3 is for the 3 channels (RGB). \n",
    "\n",
    "These images are flattened to a vector of size 64x64x3 = 12288. And all channel values are normalized by dividing by 255.  The dataset provided is already messaged and sotred as csv in HDFS."
   ]
  },
  {
   "cell_type": "code",
   "execution_count": 3,
   "metadata": {},
   "outputs": [],
   "source": [
    "#Load the data. \n",
    "train_set_x_rdd = sc.textFile(\"trainx.csv\")\n",
    "train_set_y_rdd = sc.textFile(\"trainy.csv\")\n",
    "test_set_x_rdd = sc.textFile(\"testx.csv\")\n",
    "test_set_y_rdd = sc.textFile(\"testy.csv\")"
   ]
  },
  {
   "cell_type": "markdown",
   "metadata": {},
   "source": [
    "## Here we create our required functions in systemml\n",
    "* Sigmoid - Activation function\n",
    "* Initialize_with_zero - Setup input parameters and matrices to zero\n",
    "* propagate - Calculate cost and gradients\n",
    "* optimize - Iterate to obtain weight and intercept vectors\n",
    "* predict - Use calculated weights to predict input values\n",
    "* model - Put all of above fucntion to use\n",
    "\n",
    "In the output from systemml we emit back input y (train and test) vectors as well.  This was just for convenience to use these values as numpy arrays in calculating accuracy and then plot these."
   ]
  },
  {
   "cell_type": "code",
   "execution_count": 5,
   "metadata": {},
   "outputs": [
    {
     "name": "stdout",
     "output_type": "stream",
     "text": [
      "[Stage 8:>                                                          (0 + 2) / 2]\n",
      "                                                                                \n",
      "[Stage 20:>                                                         (0 + 2) / 2]\n",
      "                                                                                \n",
      "Cost after iteration 100: 0.644898\n",
      "Cost after iteration 200: 0.484894\n",
      "Cost after iteration 300: 0.377761\n",
      "Cost after iteration 400: 0.331775\n",
      "Cost after iteration 500: 0.303529\n",
      "Cost after iteration 600: 0.280094\n",
      "Cost after iteration 700: 0.260226\n",
      "Cost after iteration 800: 0.243100\n",
      "Cost after iteration 900: 0.228144\n",
      "Cost after iteration 1000: 0.214944\n",
      "Cost after iteration 1100: 0.203189\n",
      "Cost after iteration 1200: 0.192644\n",
      "Cost after iteration 1300: 0.183124\n",
      "Cost after iteration 1400: 0.174481\n",
      "Cost after iteration 1500: 0.166597\n",
      "Cost after iteration 1600: 0.159374\n",
      "Cost after iteration 1700: 0.152731\n",
      "Cost after iteration 1800: 0.146601\n",
      "Cost after iteration 1900: 0.140927\n",
      "Cost after iteration 2000: 0.135659\n",
      "SystemML Statistics:\n",
      "Total execution time:\t\t41.576 sec.\n",
      "Number of executed Spark inst:\t8.\n",
      "\n",
      "                                                                                \n",
      "\n"
     ]
    }
   ],
   "source": [
    "sml_text = \"\"\"\n",
    "sigmoid = function(matrix[double] A) return (matrix[double] B) {\n",
    "    B = 1/(1 + exp(-A))\n",
    "}\n",
    "\n",
    "initialize_with_zeros = function(double dim) return (matrix[double] w,double b) {\n",
    "    w = matrix(0.0,dim,1)\n",
    "    b = 0.0\n",
    "}\n",
    "\n",
    "propagate = function(matrix[double] w,double b,matrix[double] X,matrix[double] Y) return \n",
    "    ( matrix[double] dw, double db, double cost) {\n",
    "        m = ncol(X)\n",
    "        A = sigmoid(t(w)%*%X + b)\n",
    "        cost = -(Y%*%t(log(A))  + (1-Y)%*%t(log(1-A)))/m\n",
    "        dw = (X%*%t(A-Y))/m\n",
    "        db = sum(A-Y)/m\n",
    "        cost = as.scalar(cost)\n",
    "}\n",
    "\n",
    "optimize = function (matrix[double] w,double b,matrix[double] X,matrix[double] Y, \n",
    "        double num_iterations, double learning_rate, boolean print_cost) return \n",
    "        (matrix[double] w, double b, matrix[double] dw,double db, matrix[double] costs ) {\n",
    "            costs = matrix(0,num_iterations,1)\n",
    "            m = ncol(X)\n",
    "            for (i in 1:num_iterations) {\n",
    "                [dw,db, cost] = propagate(w, b, X, Y)\n",
    "                w = w - learning_rate*dw\n",
    "                b = b - learning_rate*db\n",
    "                costs[i,] = cost\n",
    "                if (i %% 100 == 0) {\n",
    "                    print ('Cost after iteration %d: %f',i, cost) \n",
    "                }\n",
    "            }\n",
    "}\n",
    "\n",
    "predict = function (matrix[double] w,double b,matrix[double] X)  return (matrix[double] Y_prediction) {\n",
    "        m = ncol(X)\n",
    "        A = sigmoid(t(w)%*%X + b)\n",
    "        Y_prediction = matrix(0.0,1,m)\n",
    "        Y_prediction = A > 0.5\n",
    "}  \n",
    "\n",
    "model = function (matrix[double] X_train,matrix[double] Y_train,matrix[double] X_test,matrix[double] Y_test, \n",
    "                double num_iterations, double learning_rate, boolean print_cost) return \n",
    "                (matrix[double] w, double b, matrix[double] Y_prediction_test,matrix[double] Y_test,\n",
    "                matrix[double] Y_prediction_train,matrix[double] Y_train, matrix[double] costs ) {\n",
    "        \n",
    "                [w, b] = initialize_with_zeros(nrow(X_train))\n",
    "        \n",
    "                [w,b,dw,db,costs] = optimize(w, b, X_train, Y_train, num_iterations, learning_rate, print_cost)\n",
    "        \n",
    "                Y_prediction_test = predict(w, b, X_test)\n",
    "                Y_prediction_train = predict(w, b, X_train)\n",
    "}\n",
    "[w,b,y_predict_test,y_test,y_predict_train,y_train,costs] = model(train_set_x, train_set_y, test_set_x, test_set_y, \n",
    "            num_iterations, learning_rate, print_cost)\n",
    "\"\"\"\n",
    "\n",
    "sml_script = dml(sml_text).input(train_set_x = train_set_x_rdd, train_set_y=train_set_y_rdd, \n",
    "                                    test_set_x=test_set_x_rdd, test_set_y=test_set_y_rdd, \n",
    "                                    num_iterations=2000, learning_rate=0.005, print_cost=True).output(\n",
    "                                    \"y_predict_test\",\"y_predict_train\",\"costs\",\"y_test\",\"y_train\")\n",
    "yp_test, yp_train,costs,y_test,y_train = ml.execute(sml_script).get(\"y_predict_test\",\"y_predict_train\",\"costs\"\n",
    "                                                            ,\"y_test\",\"y_train\")"
   ]
  },
  {
   "cell_type": "code",
   "execution_count": 6,
   "metadata": {},
   "outputs": [
    {
     "name": "stdout",
     "output_type": "stream",
     "text": [
      "Train set accuracy : 99.04306220095694\n",
      "Train set accuracy : 70.0\n"
     ]
    }
   ],
   "source": [
    "print \"Train set accuracy :\", 100 - np.mean(np.abs(yp_train.toNumPy() - y_train.toNumPy())) * 100\n",
    "print \"Train set accuracy :\", 100 - np.mean(np.abs(yp_test.toNumPy() - y_test.toNumPy())) * 100"
   ]
  },
  {
   "cell_type": "code",
   "execution_count": 7,
   "metadata": {},
   "outputs": [
    {
     "data": {
      "image/png": "[encoded data removed]",
      "text/plain": [
       "<matplotlib.figure.Figure at 0x7f8b44e9a5d0>"
      ]
     },
     "metadata": {},
     "output_type": "display_data"
    }
   ],
   "source": [
    "plt.plot(costs.toNumPy())\n",
    "plt.ylabel('cost')\n",
    "plt.xlabel('iterations (per hundreds)')\n",
    "plt.title(\"Learning rate =\" + \"0.005\")\n",
    "plt.show()"
   ]
  },
  {
   "cell_type": "code",
   "execution_count": null,
   "metadata": {},
   "outputs": [],
   "source": []
  }
 ],
 "metadata": {
  "kernelspec": {
   "display_name": "Python 2",
   "language": "python",
   "name": "python2"
  },
  "language_info": {
   "codemirror_mode": {
    "name": "ipython",
    "version": 2
   },
   "file_extension": ".py",
   "mimetype": "text/x-python",
   "name": "python",
   "nbconvert_exporter": "python",
   "pygments_lexer": "ipython2",
   "version": "2.7.14"
  }
 },
 "nbformat": 4,
 "nbformat_minor": 2
}
