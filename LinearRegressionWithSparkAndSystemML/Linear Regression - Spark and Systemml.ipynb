{
 "cells": [
  {
   "cell_type": "markdown",
   "metadata": {},
   "source": [
    "This excercise is direct implementation of excercise2 of week1 - Coursera course - Machine learning by Andrew Ng. Actual course implementation is in Octave, I have tried this implemetation in Systemml on Spark running on Yarn. "
   ]
  },
  {
   "cell_type": "markdown",
   "metadata": {},
   "source": [
    "Step 1. \n",
    "-----------------------------------------------------------------------\n",
    "Import required libraries for Systemml, Spark and Matplotlib\n",
    "\n",
    "We have already configured pyspark to kick-start jupyter notebook, hence spark context as \"spark\" is already created for us and required core spark libraries are already imported. Hence there is no need to import \"Context\", \"Session\" and all that stuff."
   ]
  },
  {
   "cell_type": "code",
   "execution_count": 1,
   "metadata": {},
   "outputs": [],
   "source": [
    "import systemml as sml\n",
    "from systemml import MLContext, dml,  dmlFromFile\n",
    "import numpy as np\n",
    "from pyspark.sql.types import *\n",
    "import matplotlib.pyplot as plt"
   ]
  },
  {
   "cell_type": "markdown",
   "metadata": {},
   "source": [
    "Step 2.\n",
    "---------------------\n",
    "Create context for Systemml from spark. This step sets up environment for systemml execution on spark. We also setip matplotlib to create inline graphs"
   ]
  },
  {
   "cell_type": "code",
   "execution_count": 2,
   "metadata": {},
   "outputs": [],
   "source": [
    "ml = MLContext(spark)\n",
    "%matplotlib inline"
   ]
  },
  {
   "cell_type": "code",
   "execution_count": 3,
   "metadata": {},
   "outputs": [],
   "source": [
    "schema = StructType([ StructField(\"sft\", FloatType(), True),\n",
    "                     StructField(\"br\", FloatType(), True),\n",
    "                     StructField(\"price\", FloatType(), True)])\n",
    "ex1_data = spark.read.csv(\"ex1/ex1data2.txt\",schema)"
   ]
  },
  {
   "cell_type": "markdown",
   "metadata": {},
   "source": [
    "Step 3.\n",
    "-----------------------------------\n",
    "Initialize required data for regression. These are:-\n",
    "* X: Input vector [1,squarefeet , No. of bedrooms].\n",
    "* y: Output vector\n",
    "* Theta: Solution weights initialized to 0\n",
    "* m: Number of input samples i.e rows.\n"
   ]
  },
  {
   "cell_type": "code",
   "execution_count": 4,
   "metadata": {},
   "outputs": [
    {
     "name": "stdout",
     "output_type": "stream",
     "text": [
      "SystemML Statistics:\n",
      "Total execution time:\t\t0.725 sec.\n",
      "Number of executed Spark inst:\t0.\n",
      "\n",
      "\n"
     ]
    }
   ],
   "source": [
    "# In ML indexing starts at 1 not 0.\n",
    "#Note theta is initialize to number of rows one more than are features in X. This is to accomodate for intercept term\n",
    "#which will be added to X in the next step.\n",
    "sml_initialize = \"\"\"\n",
    "    ncols = ncol(ex1_data1)\n",
    "    X = as.matrix(ex1_data1[,1:ncols-1])\n",
    "    y = as.matrix(ex1_data1[,ncols])\n",
    "    m = nrow(ex1_data1)\n",
    "    theta = matrix(0,ncol(X)+1,1)\n",
    "\"\"\"\n",
    "#Below two statements execute systemml script defined above on spark with the inputs you provide and \n",
    "#returns defined outputs\n",
    "sml_init_script = dml(sml_initialize).input(ex1_data1=ex1_data).output(\"X\",\"y\",\"m\",\"theta\",\"ncols\")\n",
    "X,y,m,theta,nc = ml.execute(sml_init_script).get(\"X\",\"y\",\"m\",\"theta\",\"ncols\")"
   ]
  },
  {
   "cell_type": "markdown",
   "metadata": {},
   "source": [
    "Step 4.\n",
    "------------------------\n",
    "Normalize X ax (X - mean(X))/Sd(X).  \n",
    "Add feature vector for intercept term to X i.e pad one(nrows)  to X."
   ]
  },
  {
   "cell_type": "code",
   "execution_count": 5,
   "metadata": {},
   "outputs": [
    {
     "name": "stdout",
     "output_type": "stream",
     "text": [
      "SystemML Statistics:\n",
      "Total execution time:\t\t0.171 sec.\n",
      "Number of executed Spark inst:\t0.\n",
      "\n",
      "\n"
     ]
    }
   ],
   "source": [
    "sml_normalizeX = \"\"\"\n",
    "    X_means = colMeans(X)\n",
    "    X_sds = colSds(X)\n",
    "    X = (X - X_means)/X_sds\n",
    "    m = nrow(X)\n",
    "    ones = matrix(1,m,1)\n",
    "    X = cbind(ones,X)\n",
    "\"\"\"\n",
    "\n",
    "sml_normalize_script = dml(sml_normalizeX).input(X=X).output(\"X\",\"X_means\", \"X_sds\")\n",
    "script_result = ml.execute(sml_normalize_script)\n",
    "X_normalized,X_mean, X_sd= script_result.get(\"X\",\"X_means\", \"X_sds\")"
   ]
  },
  {
   "cell_type": "markdown",
   "metadata": {},
   "source": [
    "Step 5.\n",
    "------------------\n",
    "Convert ML matrices to numpy arrays for plotting"
   ]
  },
  {
   "cell_type": "code",
   "execution_count": 6,
   "metadata": {},
   "outputs": [],
   "source": [
    "X_n = X.toNumPy()\n",
    "y_n = y.toNumPy()\n",
    "theta_n = theta.toNumPy()"
   ]
  },
  {
   "cell_type": "markdown",
   "metadata": {},
   "source": [
    "Step 6.\n",
    "------------------\n",
    "Plot price againist square-feet and number of bedrooms. If you plot these against normalized data(X_normalized) you will see that the range of X is between some small -ve number to +ve number"
   ]
  },
  {
   "cell_type": "code",
   "execution_count": 8,
   "metadata": {},
   "outputs": [
    {
     "data": {
      "image/png": "[encoded data removed]",
      "text/plain": [
       "<matplotlib.figure.Figure at 0x7ff88d5de510>"
      ]
     },
     "metadata": {},
     "output_type": "display_data"
    }
   ],
   "source": [
    "plt.figure()\n",
    "plt.subplot(121)\n",
    "plt.scatter(X_n[:,0],y_n,color='red',marker='x')\n",
    "plt.ylabel('Price')\n",
    "plt.xlabel('Square Feet')\n",
    "plt.subplot(122)\n",
    "plt.scatter(X_n[:,1],y_n,color='blue',marker='x')\n",
    "plt.ylabel('Price')\n",
    "plt.xlabel('No. of bedrooms')\n",
    "plt.rcParams[\"figure.figsize\"] = (15,4)\n",
    "plt.show()"
   ]
  },
  {
   "cell_type": "markdown",
   "metadata": {},
   "source": [
    "Step 7.\n",
    "-------------------\n",
    "Define ML script for CostFunction and Gradient Descent. In gradient descent function we store all values of cost and theta. Cost values are plotted later in the notebook. \n",
    "\n",
    "\"sml_cost\" and compute_cost functions in below block is redundant, I included it here just to have completeness w.r.t octave implementation on the course.  \n",
    "\n",
    "Correct way to do this is to create Systemmml functions in the script and then use it over here.  But this usecase I will explore in some later excercise."
   ]
  },
  {
   "cell_type": "code",
   "execution_count": 9,
   "metadata": {},
   "outputs": [],
   "source": [
    "sml_cost = \"\"\"\n",
    "    m = nrow(y)\n",
    "    J = as.matrix(sum((X %*% theta - y)^2)/(2*m))\n",
    "    \"\"\"\n",
    "\n",
    "sml_gd = \"\"\"\n",
    "    m = nrow(y)\n",
    "    theta_hist = matrix(0,ncol(X),1)\n",
    "    J = as.matrix(sum((X %*% theta - y)^2)/(2*m))\n",
    "    for (iter in 1:num_iters) {\n",
    "        theta =  theta - t(((t(X %*% theta -y)) %*% X)*(alpha/m))\n",
    "        J = rbind(J,as.matrix(sum((X %*% theta - y)^2)/(2*m)))\n",
    "        theta_hist = rbind(theta_hist,theta)\n",
    "    }\n",
    "    \"\"\"\n",
    "\n",
    "def compute_cost(X,y,theta):\n",
    "    sml1_script = dml(sml_cost).input(X=X,y=y,theta=theta).output(\"J\")\n",
    "    return  ml.execute(sml1_script).get(\"J\")\n",
    "\n",
    "def gradient_descent(X, y, theta, alpha, num_iters=50):\n",
    "    sml_script = dml(sml_gd).input(X=X,y=y,theta=theta,alpha=alpha,num_iters=num_iters).output(\"theta\",\"J\")\n",
    "    return  ml.execute(sml_script).get(\"theta\",\"J\")"
   ]
  },
  {
   "cell_type": "markdown",
   "metadata": {},
   "source": [
    "Step 8.\n",
    "--------------\n",
    "Calculate weights and cost for our data X_normalized and y for alpha 0.1 [0.3]."
   ]
  },
  {
   "cell_type": "code",
   "execution_count": 10,
   "metadata": {},
   "outputs": [
    {
     "name": "stdout",
     "output_type": "stream",
     "text": [
      "SystemML Statistics:\n",
      "Total execution time:\t\t1.041 sec.\n",
      "Number of executed Spark inst:\t0.\n",
      "\n",
      "\n",
      "SystemML Statistics:\n",
      "Total execution time:\t\t0.710 sec.\n",
      "Number of executed Spark inst:\t0.\n",
      "\n",
      "\n"
     ]
    }
   ],
   "source": [
    "theta_f, J_all = gradient_descent(X_normalized, y, theta, alpha=0.1)\n",
    "theta_f_03, J_all_03 = gradient_descent(X_normalized, y, theta, alpha=0.3)"
   ]
  },
  {
   "cell_type": "markdown",
   "metadata": {},
   "source": [
    "Weights calculated for alpha 0.1 and 0.3\n",
    "---------------------------"
   ]
  },
  {
   "cell_type": "code",
   "execution_count": 11,
   "metadata": {},
   "outputs": [
    {
     "name": "stdout",
     "output_type": "stream",
     "text": [
      "Theta for alplha 0.1\n",
      "\n",
      "[[ 3.38658249e+05]\n",
      " [ 1.04127516e+05]\n",
      " [-1.72205334e+02]]\n",
      "\n",
      "Theta for alplha 0.3\n",
      "\n",
      "[[340412.65345227]\n",
      " [110572.96193087]\n",
      " [ -6591.38592285]]\n"
     ]
    }
   ],
   "source": [
    "print \"Theta for alplha 0.1\\n\"\n",
    "print theta_f.toNumPy()\n",
    "\n",
    "print \"\\nTheta for alplha 0.3\\n\"\n",
    "print theta_f_03.toNumPy()"
   ]
  },
  {
   "cell_type": "markdown",
   "metadata": {},
   "source": [
    "Step 9.\n",
    "-------------------\n",
    "Predict the price of 3 bedroom house having 1650 sqft. area. First step is to map this input to the mean and SD we used on input training data. \n",
    "Once transformed , multiply by respective theta values to get predicted house price"
   ]
  },
  {
   "cell_type": "code",
   "execution_count": 12,
   "metadata": {},
   "outputs": [
    {
     "name": "stdout",
     "output_type": "stream",
     "text": [
      "House price calculated for alpha 0.1\t292748.0852321537\n",
      "House price calculated for alpha 0.3\t293094.09812181717\n"
     ]
    }
   ],
   "source": [
    "x_predict = ([1650,3] - X_mean.toNumPy())/X_sd.toNumPy()\n",
    "p = np.sum([1,x_predict[0][0],x_predict[0][1]] * np.transpose(theta_f.toNumPy()))\n",
    "print \"House price calculated for alpha 0.1\\t\",p\n",
    "p =  np.sum([1,x_predict[0][0],x_predict[0][1]] * np.transpose(theta_f_03.toNumPy()))\n",
    "print \"House price calculated for alpha 0.3\\t\",p"
   ]
  },
  {
   "cell_type": "markdown",
   "metadata": {},
   "source": [
    "Step 10.\n",
    "---------------------\n",
    "Plot Cost values for alpha 0.1 and 0.3 by first converting these to numpy arrays."
   ]
  },
  {
   "cell_type": "code",
   "execution_count": 14,
   "metadata": {},
   "outputs": [
    {
     "data": {
      "image/png": "[encoded data removed]",
      "text/plain": [
       "<matplotlib.figure.Figure at 0x7ff88c307950>"
      ]
     },
     "metadata": {},
     "output_type": "display_data"
    }
   ],
   "source": [
    "J_n = J_all.toNumPy()\n",
    "J_03_n = J_all_03.toNumPy()\n",
    "plt.figure(2)\n",
    "plt.subplot(121)\n",
    "plt.plot(J_n)\n",
    "plt.title(\"Plot for alpha 0.1\")\n",
    "plt.subplot(122)\n",
    "plt.plot(J_03_n)\n",
    "plt.title(\"Plot for alpha 0.3\")\n",
    "plt.rcParams[\"figure.figsize\"] = (15,4)\n",
    "plt.show()"
   ]
  },
  {
   "cell_type": "code",
   "execution_count": null,
   "metadata": {},
   "outputs": [],
   "source": []
  }
 ],
 "metadata": {
  "kernelspec": {
   "display_name": "Python 2",
   "language": "python",
   "name": "python2"
  },
  "language_info": {
   "codemirror_mode": {
    "name": "ipython",
    "version": 2
   },
   "file_extension": ".py",
   "mimetype": "text/x-python",
   "name": "python",
   "nbconvert_exporter": "python",
   "pygments_lexer": "ipython2",
   "version": "2.7.14"
  }
 },
 "nbformat": 4,
 "nbformat_minor": 2
}
